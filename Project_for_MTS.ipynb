{
 "cells": [
  {
   "cell_type": "code",
   "execution_count": null,
   "id": "dd19ae9d-93d8-4604-a9d2-4a2f04fb6a4e",
   "metadata": {},
   "outputs": [],
   "source": []
  },
  {
   "cell_type": "code",
   "execution_count": null,
   "id": "bcddad14-5b4e-404d-8769-5d7e0fd1e52e",
   "metadata": {},
   "outputs": [],
   "source": []
  },
  {
   "cell_type": "code",
   "execution_count": null,
   "id": "f5f789e7-d08e-4002-b907-09a9596676c0",
   "metadata": {},
   "outputs": [],
   "source": []
  },
  {
   "cell_type": "markdown",
   "id": "842c6299-3dee-456d-972f-eca488e858f8",
   "metadata": {},
   "source": [
    "# <span style=\"color:green\">Загрузка данных</span>"
   ]
  },
  {
   "cell_type": "markdown",
   "id": "4be7175a-f291-4fd9-a0b7-50317178a692",
   "metadata": {},
   "source": [
    "## 1. Импорт библиотек"
   ]
  },
  {
   "cell_type": "code",
   "execution_count": 1,
   "id": "253d58a3-fdd0-4c65-a6c6-68a83bcbc84b",
   "metadata": {},
   "outputs": [],
   "source": [
    "import pandas as pd"
   ]
  },
  {
   "cell_type": "markdown",
   "id": "a0a8ebcf-071a-4778-8727-ab687db2da3d",
   "metadata": {},
   "source": [
    "## 2. Загрузка данных"
   ]
  },
  {
   "cell_type": "code",
   "execution_count": 8,
   "id": "70544d8d-8ff1-4b50-97c7-76ddf6cd91d6",
   "metadata": {},
   "outputs": [
    {
     "name": "stdout",
     "output_type": "stream",
     "text": [
      "Не удалось открыть файлы\n"
     ]
    }
   ],
   "source": [
    "try:\n",
    "    data_sql = pd.read_excel(\"/Users/zigalovartur/Desktop/data_mts.xlsx\" , sheet_name = \"SQL\")\n",
    "    data = pd.read_excel(\"/Users/zigalovartur/Desktop/data_mts.xlsx\" , sheet_name = \"PPT\")\n",
    "    installs = pd.read_csv('/Users/angelinazigalova/Desktop/DEF-9xx.csv')\n",
    "except:\n",
    "    print('Не удалось открыть файлы')"
   ]
  },
  {
   "cell_type": "markdown",
   "id": "222a9597-c084-4882-8869-0e376b26ffd0",
   "metadata": {},
   "source": [
    "# <span style=\"color:blue\">Задание 1 (SQL)</span>"
   ]
  },
  {
   "cell_type": "markdown",
   "id": "dae803cd-a350-4f57-abef-176ac96251bf",
   "metadata": {},
   "source": [
    "В таблице ACTV хранятся данные всех звонков абонентов за отчетный месяц с полем, \n",
    "\n",
    "указывающим на факт нахождения абонента в роуминге во время звонка: \n",
    "- 1 если абонент был в роуминге,\n",
    "- 0 если не был в роуминге.\n",
    "\n",
    "С помощью таблицы ACTV, вывести ID пять самых активных абонентов по количеству \n",
    "\n",
    "звонков в роуминге на каждый день."
   ]
  },
  {
   "cell_type": "code",
   "execution_count": 3,
   "id": "2f4d6f12-837d-498d-ba85-b9c6303052be",
   "metadata": {},
   "outputs": [
    {
     "data": {
      "text/html": [
       "<div>\n",
       "<style scoped>\n",
       "    .dataframe tbody tr th:only-of-type {\n",
       "        vertical-align: middle;\n",
       "    }\n",
       "\n",
       "    .dataframe tbody tr th {\n",
       "        vertical-align: top;\n",
       "    }\n",
       "\n",
       "    .dataframe thead th {\n",
       "        text-align: right;\n",
       "    }\n",
       "</style>\n",
       "<table border=\"1\" class=\"dataframe\">\n",
       "  <thead>\n",
       "    <tr style=\"text-align: right;\">\n",
       "      <th></th>\n",
       "      <th>ID_abon</th>\n",
       "      <th>Date of call</th>\n",
       "      <th>Time of call</th>\n",
       "      <th>Roaming</th>\n",
       "    </tr>\n",
       "  </thead>\n",
       "  <tbody>\n",
       "    <tr>\n",
       "      <th>0</th>\n",
       "      <td>1</td>\n",
       "      <td>2017-01-01</td>\n",
       "      <td>13:01:00</td>\n",
       "      <td>1</td>\n",
       "    </tr>\n",
       "    <tr>\n",
       "      <th>1</th>\n",
       "      <td>1</td>\n",
       "      <td>2017-01-02</td>\n",
       "      <td>15:01:00</td>\n",
       "      <td>0</td>\n",
       "    </tr>\n",
       "    <tr>\n",
       "      <th>2</th>\n",
       "      <td>2</td>\n",
       "      <td>2017-01-01</td>\n",
       "      <td>09:01:00</td>\n",
       "      <td>0</td>\n",
       "    </tr>\n",
       "  </tbody>\n",
       "</table>\n",
       "</div>"
      ],
      "text/plain": [
       "   ID_abon Date of call  Time of call  Roaming\n",
       "0        1    2017-01-01     13:01:00        1\n",
       "1        1    2017-01-02     15:01:00        0\n",
       "2        2    2017-01-01     09:01:00        0"
      ]
     },
     "execution_count": 3,
     "metadata": {},
     "output_type": "execute_result"
    }
   ],
   "source": [
    "data_sql"
   ]
  },
  {
   "cell_type": "markdown",
   "id": "c0a0315f-7789-4849-970f-41ccd4902527",
   "metadata": {},
   "source": [
    "WITH new AS (\n",
    "    SELECT ID_abon,\n",
    "           Date of call,\n",
    "           ROW_NUMBER() OVER (PARTITION BY Date of call ORDER BY COUNT(CASE WHEN Roaming = 1 \n",
    "                                                                            THEN 1 \n",
    "                                                                            ELSE NULL \n",
    "                                                                            END) DESC) AS count\n",
    "    FROM ACTV\n",
    "    GROUP BY ID_abon, Date of call\n",
    ")\n",
    "SELECT ID_abon, \n",
    "       Date of call\n",
    "FROM new\n",
    "WHERE count <= 5"
   ]
  },
  {
   "cell_type": "markdown",
   "id": "0ba4a592-7fef-409d-88c1-242118cbeb25",
   "metadata": {},
   "source": [
    "# <span style=\"color:blue\">Задание 2</span>"
   ]
  },
  {
   "cell_type": "markdown",
   "id": "28645535-1ba2-4cfe-ae8a-b89ed202ba4c",
   "metadata": {},
   "source": [
    "Второе задание заключается в том, чтобы отрисовать слайд в \n",
    "\n",
    "PowerPoint (диаграммы на твой выбор), проанализировать данные.\n",
    "\n",
    "Источником данных на листе PPT является выборка по звонкам \n",
    "\n",
    "абонентов с общей длительностью и количеством вход/исход звонков на абонента.\n",
    "\n",
    "Для полного анализа сначала необходимо подтянуть оператора к каждому номеру. \n",
    "\n",
    "Емкости1 операторов можно взять на сайте Минцифры \n",
    "(Выписка по диапазону 9xx https://opendata.digital.gov.ru/registry/numeric/downloads ).\n",
    "\n",
    "После отрисовать слайд в ppt в динамике/статике по натуральным и производным показателям. \n",
    "\n",
    "Проанализировать полученные данные, описать выводы и, если есть, ошибки в данных.\n",
    "\n",
    "Прислать заполненный excel-файл с подтянутыми операторами (с формулами) и слайд в ppt.\n",
    "\n",
    "1 Каждый оператор закупает для последующей реализации номерной диапазон.  \n",
    "\n",
    "Пример диапазона: МТС принадлежат номера с 79160000000 по 79169999999 в Москве и МО."
   ]
  },
  {
   "cell_type": "markdown",
   "id": "66e5a214-ce70-4f40-a0c4-6668272a2fbc",
   "metadata": {},
   "source": [
    "# <span style=\"color:green\">Предобработка данных</span>"
   ]
  },
  {
   "cell_type": "code",
   "execution_count": 4,
   "id": "2ec37f0a-20be-4c56-bda0-71e89b6d10cb",
   "metadata": {},
   "outputs": [
    {
     "data": {
      "text/html": [
       "<div>\n",
       "<style scoped>\n",
       "    .dataframe tbody tr th:only-of-type {\n",
       "        vertical-align: middle;\n",
       "    }\n",
       "\n",
       "    .dataframe tbody tr th {\n",
       "        vertical-align: top;\n",
       "    }\n",
       "\n",
       "    .dataframe thead th {\n",
       "        text-align: right;\n",
       "    }\n",
       "</style>\n",
       "<table border=\"1\" class=\"dataframe\">\n",
       "  <thead>\n",
       "    <tr style=\"text-align: right;\">\n",
       "      <th></th>\n",
       "      <th>Месяц</th>\n",
       "      <th>Моб_номер</th>\n",
       "      <th>Исход_голос_трафик_сек</th>\n",
       "      <th>Вход_голос_трафик_сек</th>\n",
       "      <th>Исход_голос_трафик_колво_звонков</th>\n",
       "      <th>Вход_голос_трафик_колво_звонков</th>\n",
       "    </tr>\n",
       "  </thead>\n",
       "  <tbody>\n",
       "    <tr>\n",
       "      <th>0</th>\n",
       "      <td>2020-11-01</td>\n",
       "      <td>79263036XXX</td>\n",
       "      <td>736.8</td>\n",
       "      <td>1440.0</td>\n",
       "      <td>6</td>\n",
       "      <td>18</td>\n",
       "    </tr>\n",
       "    <tr>\n",
       "      <th>1</th>\n",
       "      <td>2020-01-01</td>\n",
       "      <td>79295212XXX</td>\n",
       "      <td>0.0</td>\n",
       "      <td>816.0</td>\n",
       "      <td>0</td>\n",
       "      <td>6</td>\n",
       "    </tr>\n",
       "    <tr>\n",
       "      <th>2</th>\n",
       "      <td>2020-12-01</td>\n",
       "      <td>79191093XXX</td>\n",
       "      <td>11340.8</td>\n",
       "      <td>11006.8</td>\n",
       "      <td>73</td>\n",
       "      <td>78</td>\n",
       "    </tr>\n",
       "  </tbody>\n",
       "</table>\n",
       "</div>"
      ],
      "text/plain": [
       "       Месяц    Моб_номер  Исход_голос_трафик_сек  Вход_голос_трафик_сек  \\\n",
       "0 2020-11-01  79263036XXX                   736.8                 1440.0   \n",
       "1 2020-01-01  79295212XXX                     0.0                  816.0   \n",
       "2 2020-12-01  79191093XXX                 11340.8                11006.8   \n",
       "\n",
       "   Исход_голос_трафик_колво_звонков  Вход_голос_трафик_колво_звонков  \n",
       "0                                 6                               18  \n",
       "1                                 0                                6  \n",
       "2                                73                               78  "
      ]
     },
     "execution_count": 4,
     "metadata": {},
     "output_type": "execute_result"
    }
   ],
   "source": [
    "data.head(3)"
   ]
  },
  {
   "cell_type": "code",
   "execution_count": 5,
   "id": "c5984f38-86bf-4e3e-abf5-c94dbd23fe58",
   "metadata": {},
   "outputs": [
    {
     "name": "stdout",
     "output_type": "stream",
     "text": [
      "<class 'pandas.core.frame.DataFrame'>\n",
      "RangeIndex: 11232 entries, 0 to 11231\n",
      "Data columns (total 6 columns):\n",
      " #   Column                            Non-Null Count  Dtype         \n",
      "---  ------                            --------------  -----         \n",
      " 0   Месяц                             11232 non-null  datetime64[ns]\n",
      " 1   Моб_номер                         11232 non-null  object        \n",
      " 2   Исход_голос_трафик_сек            11232 non-null  float64       \n",
      " 3   Вход_голос_трафик_сек             11232 non-null  float64       \n",
      " 4   Исход_голос_трафик_колво_звонков  11232 non-null  int64         \n",
      " 5   Вход_голос_трафик_колво_звонков   11232 non-null  int64         \n",
      "dtypes: datetime64[ns](1), float64(2), int64(2), object(1)\n",
      "memory usage: 526.6+ KB\n"
     ]
    }
   ],
   "source": [
    "data.info()"
   ]
  },
  {
   "cell_type": "markdown",
   "id": "d9a5343e-fd45-49d8-8542-0ea4f0baf6be",
   "metadata": {},
   "source": [
    "<span style=\"color:orange\">При первичном знакомстве с данными можно сказать:</span>\n",
    "\n",
    "<span style=\"color:orange\">1. Пропусков в данных нет</span>  \n",
    "\n",
    "<span style=\"color:orange\">2. Типы полей являются корректными</span>\n",
    "\n",
    "<span style=\"color:orange\">3. Для удобного анализа можно исправить названия полей - привести к змеиному регистру и перевести на латиницу</span>"
   ]
  },
  {
   "cell_type": "markdown",
   "id": "3b484303-3d4a-4e5b-844c-ac12fd2dd683",
   "metadata": {},
   "source": [
    "## 1. Привожу названия полей к удобному виду"
   ]
  },
  {
   "cell_type": "code",
   "execution_count": 6,
   "id": "a91e5f72-ba47-49aa-bb83-34d11cf59ca0",
   "metadata": {},
   "outputs": [],
   "source": [
    "data.columns = ['month', 'phone_number', 'outgoing_sec', 'incoming_sec', 'outgoing_count', 'incoming_count']"
   ]
  },
  {
   "cell_type": "code",
   "execution_count": 7,
   "id": "aaa72b75-ea5b-45ef-bc6e-e0940e04a24e",
   "metadata": {},
   "outputs": [
    {
     "data": {
      "text/html": [
       "<div>\n",
       "<style scoped>\n",
       "    .dataframe tbody tr th:only-of-type {\n",
       "        vertical-align: middle;\n",
       "    }\n",
       "\n",
       "    .dataframe tbody tr th {\n",
       "        vertical-align: top;\n",
       "    }\n",
       "\n",
       "    .dataframe thead th {\n",
       "        text-align: right;\n",
       "    }\n",
       "</style>\n",
       "<table border=\"1\" class=\"dataframe\">\n",
       "  <thead>\n",
       "    <tr style=\"text-align: right;\">\n",
       "      <th></th>\n",
       "      <th>month</th>\n",
       "      <th>phone_number</th>\n",
       "      <th>outgoing_sec</th>\n",
       "      <th>incoming_sec</th>\n",
       "      <th>outgoing_count</th>\n",
       "      <th>incoming_count</th>\n",
       "    </tr>\n",
       "  </thead>\n",
       "  <tbody>\n",
       "    <tr>\n",
       "      <th>0</th>\n",
       "      <td>2020-11-01</td>\n",
       "      <td>79263036XXX</td>\n",
       "      <td>736.8</td>\n",
       "      <td>1440.0</td>\n",
       "      <td>6</td>\n",
       "      <td>18</td>\n",
       "    </tr>\n",
       "    <tr>\n",
       "      <th>1</th>\n",
       "      <td>2020-01-01</td>\n",
       "      <td>79295212XXX</td>\n",
       "      <td>0.0</td>\n",
       "      <td>816.0</td>\n",
       "      <td>0</td>\n",
       "      <td>6</td>\n",
       "    </tr>\n",
       "    <tr>\n",
       "      <th>2</th>\n",
       "      <td>2020-12-01</td>\n",
       "      <td>79191093XXX</td>\n",
       "      <td>11340.8</td>\n",
       "      <td>11006.8</td>\n",
       "      <td>73</td>\n",
       "      <td>78</td>\n",
       "    </tr>\n",
       "    <tr>\n",
       "      <th>3</th>\n",
       "      <td>2020-05-01</td>\n",
       "      <td>79175256XXX</td>\n",
       "      <td>216.0</td>\n",
       "      <td>10316.4</td>\n",
       "      <td>4</td>\n",
       "      <td>68</td>\n",
       "    </tr>\n",
       "    <tr>\n",
       "      <th>4</th>\n",
       "      <td>2020-07-01</td>\n",
       "      <td>79778842XXX</td>\n",
       "      <td>24.0</td>\n",
       "      <td>0.0</td>\n",
       "      <td>1</td>\n",
       "      <td>0</td>\n",
       "    </tr>\n",
       "    <tr>\n",
       "      <th>...</th>\n",
       "      <td>...</td>\n",
       "      <td>...</td>\n",
       "      <td>...</td>\n",
       "      <td>...</td>\n",
       "      <td>...</td>\n",
       "      <td>...</td>\n",
       "    </tr>\n",
       "    <tr>\n",
       "      <th>11227</th>\n",
       "      <td>2020-06-01</td>\n",
       "      <td>79151195XXX</td>\n",
       "      <td>2744.4</td>\n",
       "      <td>648.0</td>\n",
       "      <td>17</td>\n",
       "      <td>5</td>\n",
       "    </tr>\n",
       "    <tr>\n",
       "      <th>11228</th>\n",
       "      <td>2020-08-01</td>\n",
       "      <td>79032680XXX</td>\n",
       "      <td>2822.4</td>\n",
       "      <td>1730.4</td>\n",
       "      <td>4</td>\n",
       "      <td>2</td>\n",
       "    </tr>\n",
       "    <tr>\n",
       "      <th>11229</th>\n",
       "      <td>2020-10-01</td>\n",
       "      <td>79161015XXX</td>\n",
       "      <td>2145.6</td>\n",
       "      <td>442.8</td>\n",
       "      <td>17</td>\n",
       "      <td>4</td>\n",
       "    </tr>\n",
       "    <tr>\n",
       "      <th>11230</th>\n",
       "      <td>2020-09-01</td>\n",
       "      <td>79091560XXX</td>\n",
       "      <td>8186.4</td>\n",
       "      <td>8137.2</td>\n",
       "      <td>78</td>\n",
       "      <td>60</td>\n",
       "    </tr>\n",
       "    <tr>\n",
       "      <th>11231</th>\n",
       "      <td>2020-04-01</td>\n",
       "      <td>79776001XXX</td>\n",
       "      <td>5.5</td>\n",
       "      <td>0.0</td>\n",
       "      <td>1</td>\n",
       "      <td>0</td>\n",
       "    </tr>\n",
       "  </tbody>\n",
       "</table>\n",
       "<p>11232 rows × 6 columns</p>\n",
       "</div>"
      ],
      "text/plain": [
       "           month phone_number  outgoing_sec  incoming_sec  outgoing_count  \\\n",
       "0     2020-11-01  79263036XXX         736.8        1440.0               6   \n",
       "1     2020-01-01  79295212XXX           0.0         816.0               0   \n",
       "2     2020-12-01  79191093XXX       11340.8       11006.8              73   \n",
       "3     2020-05-01  79175256XXX         216.0       10316.4               4   \n",
       "4     2020-07-01  79778842XXX          24.0           0.0               1   \n",
       "...          ...          ...           ...           ...             ...   \n",
       "11227 2020-06-01  79151195XXX        2744.4         648.0              17   \n",
       "11228 2020-08-01  79032680XXX        2822.4        1730.4               4   \n",
       "11229 2020-10-01  79161015XXX        2145.6         442.8              17   \n",
       "11230 2020-09-01  79091560XXX        8186.4        8137.2              78   \n",
       "11231 2020-04-01  79776001XXX           5.5           0.0               1   \n",
       "\n",
       "       incoming_count  \n",
       "0                  18  \n",
       "1                   6  \n",
       "2                  78  \n",
       "3                  68  \n",
       "4                   0  \n",
       "...               ...  \n",
       "11227               5  \n",
       "11228               2  \n",
       "11229               4  \n",
       "11230              60  \n",
       "11231               0  \n",
       "\n",
       "[11232 rows x 6 columns]"
      ]
     },
     "execution_count": 7,
     "metadata": {},
     "output_type": "execute_result"
    }
   ],
   "source": [
    "data"
   ]
  },
  {
   "cell_type": "code",
   "execution_count": null,
   "id": "5d1d71eb-5f54-4275-b3c8-b0509bbeba1a",
   "metadata": {},
   "outputs": [],
   "source": []
  }
 ],
 "metadata": {
  "kernelspec": {
   "display_name": "Python 3 (ipykernel)",
   "language": "python",
   "name": "python3"
  },
  "language_info": {
   "codemirror_mode": {
    "name": "ipython",
    "version": 3
   },
   "file_extension": ".py",
   "mimetype": "text/x-python",
   "name": "python",
   "nbconvert_exporter": "python",
   "pygments_lexer": "ipython3",
   "version": "3.11.7"
  }
 },
 "nbformat": 4,
 "nbformat_minor": 5
}
